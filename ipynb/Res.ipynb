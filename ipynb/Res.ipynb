{
 "cells": [
  {
   "cell_type": "markdown",
   "metadata": {
    "collapsed": false
   },
   "source": [
    "# My Project"
   ]
  },
  {
   "cell_type": "code",
   "execution_count": 1,
   "metadata": {
    "collapsed": true
   },
   "outputs": [],
   "source": [
    "%matplotlib inline\n",
    "import numpy as np\n",
    "import pandas as pd\n",
    "import matplotlib.pyplot as plt\n",
    "from datetime import date\n",
    "import sklearn\n",
    "import itertools\n",
    "import re\n",
    "import string\n",
    "import csv"
   ]
  },
  {
   "cell_type": "markdown",
   "metadata": {},
   "source": [
    "Load train data"
   ]
  },
  {
   "cell_type": "code",
   "execution_count": 2,
   "metadata": {
    "collapsed": false
   },
   "outputs": [
    {
     "name": "stderr",
     "output_type": "stream",
     "text": [
      "b'Skipping line 3570: expected 1 fields, saw 2\\nSkipping line 3573: expected 1 fields, saw 2\\nSkipping line 3582: expected 1 fields, saw 2\\nSkipping line 3642: expected 1 fields, saw 2\\nSkipping line 3682: expected 1 fields, saw 2\\nSkipping line 3796: expected 1 fields, saw 2\\nSkipping line 4172: expected 1 fields, saw 2\\nSkipping line 4175: expected 1 fields, saw 2\\nSkipping line 4295: expected 1 fields, saw 2\\nSkipping line 4695: expected 1 fields, saw 2\\nSkipping line 4769: expected 1 fields, saw 2\\nSkipping line 4906: expected 1 fields, saw 2\\nSkipping line 4964: expected 1 fields, saw 2\\nSkipping line 5231: expected 1 fields, saw 2\\nSkipping line 5317: expected 1 fields, saw 2\\nSkipping line 5345: expected 1 fields, saw 2\\nSkipping line 5661: expected 1 fields, saw 2\\nSkipping line 5721: expected 1 fields, saw 2\\nSkipping line 5730: expected 1 fields, saw 2\\nSkipping line 5867: expected 1 fields, saw 2\\nSkipping line 5888: expected 1 fields, saw 2\\nSkipping line 5915: expected 1 fields, saw 2\\nSkipping line 6031: expected 1 fields, saw 2\\nSkipping line 6171: expected 1 fields, saw 2\\nSkipping line 6208: expected 1 fields, saw 2\\nSkipping line 6255: expected 1 fields, saw 2\\nSkipping line 6869: expected 1 fields, saw 2\\nSkipping line 6939: expected 1 fields, saw 2\\nSkipping line 7045: expected 1 fields, saw 2\\nSkipping line 7335: expected 1 fields, saw 2\\nSkipping line 7620: expected 1 fields, saw 2\\nSkipping line 7696: expected 1 fields, saw 2\\nSkipping line 7731: expected 1 fields, saw 2\\nSkipping line 8196: expected 1 fields, saw 2\\nSkipping line 8201: expected 1 fields, saw 2\\nSkipping line 8211: expected 1 fields, saw 2\\nSkipping line 8240: expected 1 fields, saw 2\\nSkipping line 8392: expected 1 fields, saw 2\\nSkipping line 9043: expected 1 fields, saw 2\\nSkipping line 9403: expected 1 fields, saw 2\\nSkipping line 9648: expected 1 fields, saw 2\\nSkipping line 9691: expected 1 fields, saw 2\\nSkipping line 10205: expected 1 fields, saw 2\\nSkipping line 10273: expected 1 fields, saw 2\\nSkipping line 10706: expected 1 fields, saw 3\\nSkipping line 10780: expected 1 fields, saw 2\\nSkipping line 10846: expected 1 fields, saw 2\\nSkipping line 11297: expected 1 fields, saw 2\\nSkipping line 11522: expected 1 fields, saw 2\\n'\n"
     ]
    }
   ],
   "source": [
    "#load train data\n",
    "df = pd.read_csv('C:\\\\Users\\\\DELL\\\\Desktop\\\\data_scientist\\\\PROJ1\\\\d\\\\y1.txt', sep=\"\\n\", header = None, error_bad_lines=False)\n",
    "df['gender'] = pd.read_csv('C:\\\\Users\\\\DELL\\\\Desktop\\\\data_scientist\\\\PROJ1\\\\d\\\\y2.txt', sep=\"\\n\", header = None, error_bad_lines=False)\n",
    "df.columns = ['message', 'gender']\n",
    "\n",
    "#get 5000 instances from each gender\n",
    "df1 = df[df.gender == 0].sample(5000, random_state=43)\n",
    "df2 = df[df.gender == 1].sample(5000, random_state=43)"
   ]
  },
  {
   "cell_type": "markdown",
   "metadata": {},
   "source": [
    "Load test data"
   ]
  },
  {
   "cell_type": "code",
   "execution_count": 3,
   "metadata": {
    "collapsed": true
   },
   "outputs": [],
   "source": [
    "#load test data\n",
    "df_testf = pd.read_csv('C:/Users/DELL/Desktop/data_scientist/rnn/ff_new.txt', sep=\"\\n\", header = None, error_bad_lines=False)\n",
    "df_testf['gender']= 1\n",
    "df_testf.columns=['message', 'gender']\n",
    "\n",
    "df_testm = pd.read_csv('C:/Users/DELL/Desktop/data_scientist/rnn/mm_new.txt', sep=\"\\n\", header = None, error_bad_lines=False)\n",
    "df_testm['gender']= 0\n",
    "df_testm.columns=['message', 'gender']"
   ]
  },
  {
   "cell_type": "markdown",
   "metadata": {},
   "source": [
    "Examples of new sentences </br>\n",
    "female:"
   ]
  },
  {
   "cell_type": "code",
   "execution_count": 4,
   "metadata": {
    "collapsed": false
   },
   "outputs": [
    {
     "name": "stdout",
     "output_type": "stream",
     "text": [
      "0    סידורים באוכל הערב הייתה לה כי בסגנון\n",
      "1                                  כזה אני\n",
      "2                              תקראו לעשות\n",
      "3                            עייפה ויכולתי\n",
      "4         חחחחח 5 רק אחיות לטובה נראה אותך\n",
      "Name: message, dtype: object\n"
     ]
    }
   ],
   "source": [
    "print(df_testf.head().message)"
   ]
  },
  {
   "cell_type": "markdown",
   "metadata": {},
   "source": [
    "male:"
   ]
  },
  {
   "cell_type": "code",
   "execution_count": 5,
   "metadata": {
    "collapsed": false
   },
   "outputs": [
    {
     "name": "stdout",
     "output_type": "stream",
     "text": [
      "0                  חסר שטעיתי כל לבדוק אני\n",
      "1                                הוא לפתוח\n",
      "2                           הביא בסיס באמת\n",
      "3             בודק עצבן תענה שמישהי לי סתם\n",
      "4    מצד הנחתי חחחח ככה machine מודלים אתם\n",
      "Name: message, dtype: object\n"
     ]
    }
   ],
   "source": [
    "print(df_testm.head().message)"
   ]
  },
  {
   "cell_type": "code",
   "execution_count": 6,
   "metadata": {
    "collapsed": true
   },
   "outputs": [],
   "source": [
    "#merge train and test sets\n",
    "df=pd.concat([df1,df2,df_testm,df_testf])\n",
    "df.index=range(0,12387)"
   ]
  },
  {
   "cell_type": "markdown",
   "metadata": {},
   "source": [
    "# Text Cleaning\n",
    "remove punctuation <br>\n",
    "remove stopwords"
   ]
  },
  {
   "cell_type": "code",
   "execution_count": 7,
   "metadata": {
    "collapsed": false
   },
   "outputs": [],
   "source": [
    "# remove punctuation from data\n",
    "regex = re.compile('[%s]' % re.escape(string.punctuation))\n",
    "df['message_clean']= df['message'].apply(lambda x: regex.sub('', x))"
   ]
  },
  {
   "cell_type": "code",
   "execution_count": 8,
   "metadata": {
    "collapsed": false
   },
   "outputs": [],
   "source": [
    "from collections import Counter\n",
    "#creat stop-words - the x most frequent words - get bad results so not used\n",
    "# result=df.message_clean.apply(lambda x: pd.value_counts(x.split(\" \"))).sum(axis = 0)\n",
    "# result=result.sort_values(ascending=False)\n",
    "# stop=result.head(500)\n",
    "# #remove stop-words\n",
    "# df['message_clean'] = df['message_clean'].apply(lambda x: ' '.join([word for word in x.split() if word not in (stop)]))"
   ]
  },
  {
   "cell_type": "markdown",
   "metadata": {},
   "source": [
    "# Feature extraction\n",
    "* number of words in message\n",
    "* number of sentances in message\n",
    "* number of punctuation in message\n",
    "* check suffix ת after אני- eg. אני חושבת\n",
    "* general emojis\n",
    "* feminine emojis- hearts, flowers..\n",
    "* sequences like חחחח\n",
    "* topic modeling\n",
    "* best topic for each example\n",
    "* tfidf"
   ]
  },
  {
   "cell_type": "code",
   "execution_count": 9,
   "metadata": {
    "collapsed": false
   },
   "outputs": [],
   "source": [
    "#word count\n",
    "df['word_count']=df['message'].apply(lambda x: len(x.split(' '))-1)\n",
    "reg_line = re.compile('([^.\\\\n;?!]* *[.\\\\n;?!]+)[ .\\\\n;?!]*|[^.\\\\n;?!]+$')\n",
    "#sentances count\n",
    "df['sen_count']=df['message'].apply(lambda x: len(re.findall(reg_line,x)))\n",
    "#punctuation count\n",
    "reg = \"\"\"[\\.\\!\\?\\\"\\-\\,\\']+\"\"\"\n",
    "df['punctuation']=df['message'].apply(lambda x: len(re.findall(reg, x)))\n",
    "\n",
    "#suffixs features\n",
    "regex='(אני+ [א|ב|ג|ד|ה|ו|ז|ח|ט|י|כ|ל|נ|ס|ע|פ|צ|ק|ר|ש|ת]+ת)'\n",
    "df['suffix']=df['message'].apply(lambda x: len(re.findall(regex,x)))\n",
    "regex='(אני+ [א|ב|ג|ד|ה|ו|ז|ח|ט|י|כ|ל|נ|ס|ע|פ|צ|ק|ר|ש|ת]+ה)'\n",
    "df['suffix2']=df['message'].apply(lambda x: len(re.findall(regex,x)))\n",
    "\n",
    "#emoji features\n",
    "reg='😀|😃|😄|😁|😆|😅|😂|🤣|☺|😊|😇|🙂|🙃|😉|😌|😍|😘|😔|😞|😒|😏|🤠|🤡|😎|🤓|🤗|🤑|😛|😝|😜|😋|😚|😙|😗|😧|🤥|👾|😦|🤔|👽|😯|🙄|☠|😑|😴|💀|😐|😪|👻|💩|😓|😶|😡|😭|👺|👹|🤤|😠|😤|😥|👿|😈|😢|😩|😫|😰|🤕|🤒|😨|😖|😣|😱|😷|🤧|😳|☹|🙁|😵|🤢|🤐|😲|😕|😟|😮|😬|👍|👌|🖕|🍺|🍻'\n",
    "reg2='👩‍|❤‍|💋‍|👩|👨‍|❤‍|💋‍|👨|💏|👨‍|❤‍|👨|👩‍|❤‍|👩|💑|💋|💄|♥|❤|💛|💚|💙|💜|💔|💕|🌷|🌹|🌻|🌼|🌸|🌺'\n",
    "df['emoji']=df['message_clean'].apply(lambda x: len(re.findall(reg,x)))\n",
    "df['emoji2']=df['message_clean'].apply(lambda x: len(re.findall(reg2,x)))\n",
    "\n",
    "#sequence features\n",
    "reg='אאא+|בבב+|גגג+|דדד+|ההה+|ווו+|זזז+|חחח+|טטט+|ייי+|כככ+|ללל+|מממ+|נננ+|ססס+|עעע+|פפפ+|צצצ+|קקק+|ררר+|ששש+|תתת+|םםם+|ףףף+|ךךך+|ץץץ+'\n",
    "df['sequence']=df['message'].apply(lambda x: len(re.findall(reg,x)))"
   ]
  },
  {
   "cell_type": "markdown",
   "metadata": {},
   "source": [
    "# Topic Modeling\n",
    "A generative statistical model that allows sets of observations to be explained by unobserved groups that explain why some parts of the data are similar.  \n",
    "4 topics, min df=10, max df=0.1"
   ]
  },
  {
   "cell_type": "code",
   "execution_count": 10,
   "metadata": {
    "collapsed": false
   },
   "outputs": [
    {
     "name": "stderr",
     "output_type": "stream",
     "text": [
      "C:\\Users\\DELL\\Anaconda3\\envs\\py35\\lib\\site-packages\\sklearn\\decomposition\\online_lda.py:508: DeprecationWarning: The default value for 'learning_method' will be changed from 'online' to 'batch' in the release 0.20. This warning was introduced in 0.18.\n",
      "  DeprecationWarning)\n"
     ]
    }
   ],
   "source": [
    "from sklearn.feature_extraction.text import CountVectorizer\n",
    "from sklearn.decomposition import LatentDirichletAllocation\n",
    "SOME_FIXED_SEED = 42\n",
    "np.random.seed(SOME_FIXED_SEED)\n",
    "\n",
    "vectorizer = CountVectorizer(min_df=10, max_df=0.1, encoding=\"cp1255\")\n",
    "# matrix [doc,term] for each entry number of occurence of term t in doc d\n",
    "mat = vectorizer.fit_transform(df[\"message_clean\"])\n",
    "lda = LatentDirichletAllocation(n_topics=4)\n",
    "# matrix [doc,topic] for each entry probability of topic t in doc d\n",
    "topics = lda.fit_transform(mat)\n",
    "\n",
    "df_topics_words = pd.DataFrame()\n",
    "for i in range(lda.components_.shape[0]):\n",
    "    k=pd.DataFrame(lda.components_, columns=vectorizer.get_feature_names()).T[i].sort_values(ascending=False).head(100)\n",
    "    df_topics_words['topic '+str(i)+' words'] = k.index\n",
    "    df_topics_words['topic '+str(i)+' value'] = k.values\n",
    "    d=dict(zip(vectorizer.get_feature_names(),map(lambda x: int(x),lda.components_[0])))\n",
    "    \n",
    "#create docs-topics df\n",
    "for i in range(topics.shape[1]):\n",
    "    df['topic_'+str(i)]=pd.to_numeric(topics.T[i])\n",
    "    \n",
    "#best topic for each example\n",
    "df[\"topic\"] = df[[\"topic_0\", \"topic_1\", \"topic_2\", \"topic_3\"]].idxmax(axis=1)"
   ]
  },
  {
   "cell_type": "code",
   "execution_count": 11,
   "metadata": {
    "collapsed": false
   },
   "outputs": [
    {
     "data": {
      "text/html": [
       "<div>\n",
       "<table border=\"1\" class=\"dataframe\">\n",
       "  <thead>\n",
       "    <tr style=\"text-align: right;\">\n",
       "      <th></th>\n",
       "      <th>topic 0 words</th>\n",
       "      <th>topic 0 value</th>\n",
       "      <th>topic 1 words</th>\n",
       "      <th>topic 1 value</th>\n",
       "      <th>topic 2 words</th>\n",
       "      <th>topic 2 value</th>\n",
       "      <th>topic 3 words</th>\n",
       "      <th>topic 3 value</th>\n",
       "    </tr>\n",
       "  </thead>\n",
       "  <tbody>\n",
       "    <tr>\n",
       "      <th>0</th>\n",
       "      <td>מה</td>\n",
       "      <td>722.981055</td>\n",
       "      <td>זה</td>\n",
       "      <td>737.674407</td>\n",
       "      <td>את</td>\n",
       "      <td>503.693587</td>\n",
       "      <td>לי</td>\n",
       "      <td>415.664544</td>\n",
       "    </tr>\n",
       "    <tr>\n",
       "      <th>1</th>\n",
       "      <td>עם</td>\n",
       "      <td>354.310906</td>\n",
       "      <td>אז</td>\n",
       "      <td>359.807208</td>\n",
       "      <td>יש</td>\n",
       "      <td>346.147625</td>\n",
       "      <td>כן</td>\n",
       "      <td>348.371945</td>\n",
       "    </tr>\n",
       "    <tr>\n",
       "      <th>2</th>\n",
       "      <td>אתה</td>\n",
       "      <td>338.533310</td>\n",
       "      <td>חחח</td>\n",
       "      <td>338.435131</td>\n",
       "      <td>על</td>\n",
       "      <td>320.376742</td>\n",
       "      <td>אנונימוס</td>\n",
       "      <td>325.016465</td>\n",
       "    </tr>\n",
       "    <tr>\n",
       "      <th>3</th>\n",
       "      <td>גם</td>\n",
       "      <td>335.980369</td>\n",
       "      <td>לך</td>\n",
       "      <td>323.626161</td>\n",
       "      <td>הוא</td>\n",
       "      <td>255.030919</td>\n",
       "      <td>או</td>\n",
       "      <td>200.644068</td>\n",
       "    </tr>\n",
       "    <tr>\n",
       "      <th>4</th>\n",
       "      <td>של</td>\n",
       "      <td>335.844716</td>\n",
       "      <td>את</td>\n",
       "      <td>268.403950</td>\n",
       "      <td>חחחח</td>\n",
       "      <td>233.637801</td>\n",
       "      <td>עוד</td>\n",
       "      <td>187.784076</td>\n",
       "    </tr>\n",
       "  </tbody>\n",
       "</table>\n",
       "</div>"
      ],
      "text/plain": [
       "  topic 0 words  topic 0 value topic 1 words  topic 1 value topic 2 words  \\\n",
       "0            מה     722.981055            זה     737.674407            את   \n",
       "1            עם     354.310906            אז     359.807208            יש   \n",
       "2           אתה     338.533310           חחח     338.435131            על   \n",
       "3            גם     335.980369            לך     323.626161           הוא   \n",
       "4            של     335.844716            את     268.403950          חחחח   \n",
       "\n",
       "   topic 2 value topic 3 words  topic 3 value  \n",
       "0     503.693587            לי     415.664544  \n",
       "1     346.147625            כן     348.371945  \n",
       "2     320.376742      אנונימוס     325.016465  \n",
       "3     255.030919            או     200.644068  \n",
       "4     233.637801           עוד     187.784076  "
      ]
     },
     "execution_count": 11,
     "metadata": {},
     "output_type": "execute_result"
    }
   ],
   "source": [
    "df_topics_words.head(5)"
   ]
  },
  {
   "cell_type": "markdown",
   "metadata": {},
   "source": [
    "# Tf-idf"
   ]
  },
  {
   "cell_type": "code",
   "execution_count": 23,
   "metadata": {
    "collapsed": false
   },
   "outputs": [],
   "source": [
    "df3=df\n",
    "from sklearn.feature_extraction.text import TfidfVectorizer\n",
    "#TfidfVectorizer-Convert a collection of raw documents to a matrix of TF-IDF features\n",
    "tfidfvectorizer = TfidfVectorizer(analyzer = \"word\",tokenizer = None, ngram_range=(1,3), max_features = 5000, stop_words = None,min_df=1, use_idf=True)\n",
    "tfidf_matrix = tfidfvectorizer.fit_transform(df3[\"message_clean\"])\n",
    "tfidf_matrix = tfidf_matrix.todense()\n",
    "tfidf_matrix2=tfidf_matrix\n",
    "tfidf_matrix=np.c_[tfidf_matrix, df3.emoji, df3.emoji2, df3.sequence, df3.suffix2, df3.word_count, df3.sen_count,\\\n",
    "                  df3.punctuation, df3.topic_0, df3.topic_1, df3.topic_2, df3.topic_3, df3.suffix]"
   ]
  },
  {
   "cell_type": "markdown",
   "metadata": {},
   "source": [
    "# Visualization"
   ]
  },
  {
   "cell_type": "code",
   "execution_count": 24,
   "metadata": {
    "collapsed": false
   },
   "outputs": [
    {
     "data": {
      "text/html": [
       "<div>\n",
       "<table border=\"1\" class=\"dataframe\">\n",
       "  <thead>\n",
       "    <tr style=\"text-align: right;\">\n",
       "      <th></th>\n",
       "      <th>count</th>\n",
       "    </tr>\n",
       "    <tr>\n",
       "      <th>gender</th>\n",
       "      <th></th>\n",
       "    </tr>\n",
       "  </thead>\n",
       "  <tbody>\n",
       "    <tr>\n",
       "      <th>0</th>\n",
       "      <td>5000</td>\n",
       "    </tr>\n",
       "    <tr>\n",
       "      <th>1</th>\n",
       "      <td>5000</td>\n",
       "    </tr>\n",
       "  </tbody>\n",
       "</table>\n",
       "</div>"
      ],
      "text/plain": [
       "        count\n",
       "gender       \n",
       "0        5000\n",
       "1        5000"
      ]
     },
     "execution_count": 24,
     "metadata": {},
     "output_type": "execute_result"
    }
   ],
   "source": [
    "colorm='coolwarm'\n",
    "df_vis=df[:10000]\n",
    "df_vis.gender.groupby(df_vis.gender).agg(['count'])"
   ]
  },
  {
   "cell_type": "code",
   "execution_count": 25,
   "metadata": {
    "collapsed": false
   },
   "outputs": [
    {
     "data": {
      "text/plain": [
       "<matplotlib.axes._subplots.AxesSubplot at 0x217467e8a90>"
      ]
     },
     "execution_count": 25,
     "metadata": {},
     "output_type": "execute_result"
    },
    {
     "data": {
      "image/png": "[encoded data removed]",
      "text/plain": [
       "<matplotlib.figure.Figure at 0x21745d974e0>"
      ]
     },
     "metadata": {},
     "output_type": "display_data"
    }
   ],
   "source": [
    "plot6=df_vis[['sequence']].groupby(df_vis.gender).agg(['mean'])\n",
    "plot6.plot(kind='bar', stacked=True, grid=False, title='mean count of sequences by gender', colormap=colorm)"
   ]
  },
  {
   "cell_type": "code",
   "execution_count": 26,
   "metadata": {
    "collapsed": false
   },
   "outputs": [
    {
     "data": {
      "text/plain": [
       "<matplotlib.axes._subplots.AxesSubplot at 0x21746174550>"
      ]
     },
     "execution_count": 26,
     "metadata": {},
     "output_type": "execute_result"
    },
    {
     "data": {
      "image/png": "[encoded data removed]",
      "text/plain": [
       "<matplotlib.figure.Figure at 0x217460be198>"
      ]
     },
     "metadata": {},
     "output_type": "display_data"
    }
   ],
   "source": [
    "plot5=df_vis[['emoji2']].groupby(df_vis.gender).agg(['mean'])\n",
    "plot5.plot(kind='bar', stacked=True, grid=False, title='mean count of feminine emojis- by gender', colormap=colorm)"
   ]
  },
  {
   "cell_type": "code",
   "execution_count": 27,
   "metadata": {
    "collapsed": false
   },
   "outputs": [
    {
     "data": {
      "text/plain": [
       "<matplotlib.axes._subplots.AxesSubplot at 0x21745e626a0>"
      ]
     },
     "execution_count": 27,
     "metadata": {},
     "output_type": "execute_result"
    },
    {
     "data": {
      "image/png": "[encoded data removed]",
      "text/plain": [
       "<matplotlib.figure.Figure at 0x21745bd3940>"
      ]
     },
     "metadata": {},
     "output_type": "display_data"
    }
   ],
   "source": [
    "plot0=df_vis[['emoji']].groupby(df_vis.gender).agg(['mean'])\n",
    "plot0.plot(kind='bar', stacked=True, grid=False, title='mean count of general emojis- by gender', colormap=colorm)"
   ]
  },
  {
   "cell_type": "code",
   "execution_count": 28,
   "metadata": {
    "collapsed": false
   },
   "outputs": [
    {
     "data": {
      "text/plain": [
       "<matplotlib.axes._subplots.AxesSubplot at 0x21746289160>"
      ]
     },
     "execution_count": 28,
     "metadata": {},
     "output_type": "execute_result"
    },
    {
     "data": {
      "image/png": "[encoded data removed]",
      "text/plain": [
       "<matplotlib.figure.Figure at 0x2174579f588>"
      ]
     },
     "metadata": {},
     "output_type": "display_data"
    },
    {
     "data": {
      "image/png": "[encoded data removed]",
      "text/plain": [
       "<matplotlib.figure.Figure at 0x2174579f470>"
      ]
     },
     "metadata": {},
     "output_type": "display_data"
    }
   ],
   "source": [
    "plot2=df_vis[['word_count']].groupby(df_vis.gender).agg(['mean'])\n",
    "plot2.plot(kind='bar', stacked=True, grid=False, title='mean of number words- by gender', colormap=colorm)\n",
    "\n",
    "df_vis.boxplot(column='word_count', by = 'gender')"
   ]
  },
  {
   "cell_type": "code",
   "execution_count": 29,
   "metadata": {
    "collapsed": false
   },
   "outputs": [
    {
     "data": {
      "text/plain": [
       "<matplotlib.axes._subplots.AxesSubplot at 0x217459fd6a0>"
      ]
     },
     "execution_count": 29,
     "metadata": {},
     "output_type": "execute_result"
    },
    {
     "data": {
      "image/png": "[encoded data removed]",
      "text/plain": [
       "<matplotlib.figure.Figure at 0x217458b01d0>"
      ]
     },
     "metadata": {},
     "output_type": "display_data"
    },
    {
     "data": {
      "image/png": "[encoded data removed]",
      "text/plain": [
       "<matplotlib.figure.Figure at 0x217458b0390>"
      ]
     },
     "metadata": {},
     "output_type": "display_data"
    }
   ],
   "source": [
    "plot3=df_vis[['sen_count']].groupby(df_vis.gender).agg(['mean'])\n",
    "plot3.plot(kind='bar', stacked=True, grid=False, title='mean of number sentances- by gender', colormap=colorm)\n",
    "\n",
    "df_vis.boxplot(column='sen_count', by = 'gender')"
   ]
  },
  {
   "cell_type": "code",
   "execution_count": 30,
   "metadata": {
    "collapsed": false
   },
   "outputs": [
    {
     "data": {
      "text/plain": [
       "<matplotlib.axes._subplots.AxesSubplot at 0x2174655ffd0>"
      ]
     },
     "execution_count": 30,
     "metadata": {},
     "output_type": "execute_result"
    },
    {
     "data": {
      "image/png": "[encoded data removed]",
      "text/plain": [
       "<matplotlib.figure.Figure at 0x217459ab3c8>"
      ]
     },
     "metadata": {},
     "output_type": "display_data"
    },
    {
     "data": {
      "image/png": "[encoded data removed]",
      "text/plain": [
       "<matplotlib.figure.Figure at 0x217459ab0f0>"
      ]
     },
     "metadata": {},
     "output_type": "display_data"
    }
   ],
   "source": [
    "plot4=df_vis[['punctuation']].groupby(df_vis.gender).agg(['mean'])\n",
    "plot4.plot(kind='bar', stacked=True, grid=False, title='mean of number punctuation- by gender', colormap=colorm)\n",
    "\n",
    "df_vis.boxplot(column='punctuation', by = 'gender')"
   ]
  },
  {
   "cell_type": "code",
   "execution_count": 31,
   "metadata": {
    "collapsed": false
   },
   "outputs": [
    {
     "data": {
      "image/png": "[encoded data removed]",
      "text/plain": [
       "<matplotlib.figure.Figure at 0x217465d9d30>"
      ]
     },
     "metadata": {},
     "output_type": "display_data"
    }
   ],
   "source": [
    "df4=df_vis.groupby(by=['topic','gender']).size().unstack(level=-1).fillna(0).apply(lambda x: x.apply(lambda y: y/x.sum()),axis=1)\n",
    "ax=df4.plot.barh(stacked=True,figsize=(10,8),grid=False,fontsize=12,title='Distribution of each topic at gender', colormap=colorm)\n",
    "plt.show()"
   ]
  },
  {
   "cell_type": "markdown",
   "metadata": {},
   "source": [
    "# Modeling"
   ]
  },
  {
   "cell_type": "code",
   "execution_count": 32,
   "metadata": {
    "collapsed": true
   },
   "outputs": [],
   "source": [
    "from sklearn.metrics import confusion_matrix\n",
    "def plot_confusion_matrix(cm, classes,\n",
    "                      normalize=False,\n",
    "                      title='Confusion matrix',\n",
    "                      cmap=plt.cm.Purples):\n",
    "\n",
    "    plt.imshow(cm, interpolation='nearest', cmap=cmap)\n",
    "    plt.title(title)\n",
    "    plt.colorbar()\n",
    "    tick_marks = np.arange(len(classes))\n",
    "    plt.xticks(tick_marks, classes, rotation=45)\n",
    "    plt.yticks(tick_marks, classes)\n",
    "\n",
    "    if normalize:\n",
    "        cm = cm.astype('float') / cm.sum(axis=1)[:, np.newaxis]\n",
    "        print(\"Normalized confusion matrix\")\n",
    "    else:\n",
    "        print('Confusion matrix, without normalization')\n",
    "\n",
    "    print(cm)\n",
    "\n",
    "    thresh = cm.max() / 2.\n",
    "    for i, j in itertools.product(range(cm.shape[0]), range(cm.shape[1])):\n",
    "        plt.text(j, i, cm[i, j],\n",
    "                 horizontalalignment=\"center\",\n",
    "                 color=\"white\" if cm[i, j] > thresh else \"black\")\n",
    "\n",
    "    plt.tight_layout()\n",
    "    plt.ylabel('True label')\n",
    "    plt.xlabel('Predicted label')"
   ]
  },
  {
   "cell_type": "code",
   "execution_count": 33,
   "metadata": {
    "collapsed": false
   },
   "outputs": [],
   "source": [
    "#split train, test sets\n",
    "train_x = tfidf_matrix[0:10000]\n",
    "train_y = df3[\"gender\"][0:10000]\n",
    "test_x = tfidf_matrix[10000:]\n",
    "test_y = df3[\"gender\"][10000:]"
   ]
  },
  {
   "cell_type": "markdown",
   "metadata": {},
   "source": [
    "# Random forest\n",
    "Criterion- gini, Number of Trees=500  \n",
    "Calc Accuracy score  \n",
    "Calc precision_recall_fscore_support scores  \n",
    "Print confusion_matrix"
   ]
  },
  {
   "cell_type": "code",
   "execution_count": 34,
   "metadata": {
    "collapsed": false
   },
   "outputs": [],
   "source": [
    "from sklearn.externals import joblib\n",
    "#load model\n",
    "forest = joblib.load('C:\\\\Users\\\\DELL\\\\Desktop\\\\data_scientist\\\\rnn\\\\rf_model1.pkl')"
   ]
  },
  {
   "cell_type": "code",
   "execution_count": 35,
   "metadata": {
    "collapsed": false
   },
   "outputs": [],
   "source": [
    "from sklearn.ensemble import RandomForestClassifier\n",
    "from sklearn.metrics import f1_score\n",
    "# Initialize a Random Forest classifier with 500 trees\n",
    "forest = RandomForestClassifier(criterion='gini', \n",
    "                         n_estimators=500, #The number of trees in the forest\n",
    "                         min_samples_split=10,\n",
    "                         min_samples_leaf=1,\n",
    "                         max_features='auto',\n",
    "                         oob_score=True,\n",
    "                         random_state=1,\n",
    "                         n_jobs=-1)\n",
    "\n",
    "# Fit the forest to the training set, using the bag of words as \n",
    "# features and the gender labels as the response variable\n",
    "forest = forest.fit( train_x, train_y )\n",
    "# save the model\n",
    "joblib.dump(forest, 'C:\\\\Users\\\\DELL\\\\Desktop\\\\data_scientist\\\\rnn\\\\rf_model1.pkl') "
   ]
  },
  {
   "cell_type": "code",
   "execution_count": 36,
   "metadata": {
    "collapsed": false
   },
   "outputs": [
    {
     "name": "stdout",
     "output_type": "stream",
     "text": [
      "0.713028906577\n"
     ]
    }
   ],
   "source": [
    "# Evaluate accuracy best on the test set\n",
    "score_rf=forest.score(test_x,test_y)\n",
    "print(score_rf)"
   ]
  },
  {
   "cell_type": "code",
   "execution_count": 37,
   "metadata": {
    "collapsed": false
   },
   "outputs": [
    {
     "name": "stdout",
     "output_type": "stream",
     "text": [
      "             precision    recall  f1-score   support\n",
      "\n",
      "          0       0.67      0.83      0.74      1176\n",
      "          1       0.78      0.60      0.68      1211\n",
      "\n",
      "avg / total       0.73      0.71      0.71      2387\n",
      "\n"
     ]
    }
   ],
   "source": [
    "from sklearn.metrics import classification_report\n",
    "results=forest.predict(test_x)\n",
    "\n",
    "#precision_recall_fscore_support\n",
    "c_report=classification_report(test_y,results)\n",
    "print(c_report)"
   ]
  },
  {
   "cell_type": "code",
   "execution_count": 38,
   "metadata": {
    "collapsed": false
   },
   "outputs": [
    {
     "name": "stdout",
     "output_type": "stream",
     "text": [
      "Confusion matrix, without normalization\n",
      "[[975 201]\n",
      " [484 727]]\n",
      "Normalized confusion matrix\n",
      "[[ 0.83  0.17]\n",
      " [ 0.4   0.6 ]]\n"
     ]
    },
    {
     "data": {
      "image/png": "[encoded data removed]",
      "text/plain": [
       "<matplotlib.figure.Figure at 0x217470ec5c0>"
      ]
     },
     "metadata": {},
     "output_type": "display_data"
    },
    {
     "data": {
      "image/png": "[encoded data removed]",
      "text/plain": [
       "<matplotlib.figure.Figure at 0x217470d9e80>"
      ]
     },
     "metadata": {},
     "output_type": "display_data"
    }
   ],
   "source": [
    "#print the confusion matrix\n",
    "c_matrix=confusion_matrix(test_y,results)   \n",
    "classes=df3.gender.unique()\n",
    "np.set_printoptions(precision=2)\n",
    "\n",
    "# Plot non-normalized confusion matrix\n",
    "plt.figure()\n",
    "plot_confusion_matrix(c_matrix, classes,\n",
    "                      title='Confusion matrix, without normalization')\n",
    "\n",
    "# Plot normalized confusion matrix\n",
    "plt.figure()\n",
    "plot_confusion_matrix(c_matrix, classes, normalize=True,\n",
    "                      title='Normalized confusion matrix')\n",
    "\n",
    "plt.show()\n"
   ]
  },
  {
   "cell_type": "markdown",
   "metadata": {},
   "source": [
    "# GradientBoosting\n",
    "Max_depth=7, n_estimators=100  \n",
    "Calc Accuracy score  \n",
    "Calc precision_recall_fscore_support scores  \n",
    "Print confusion_matrix"
   ]
  },
  {
   "cell_type": "code",
   "execution_count": 39,
   "metadata": {
    "collapsed": true
   },
   "outputs": [],
   "source": [
    "GradientBoosting = joblib.load('C:\\\\Users\\\\DELL\\\\Desktop\\\\data_scientist\\\\rnn\\\\gb_model1.pkl')"
   ]
  },
  {
   "cell_type": "code",
   "execution_count": 40,
   "metadata": {
    "collapsed": false
   },
   "outputs": [],
   "source": [
    "from sklearn.ensemble import GradientBoostingClassifier\n",
    "GradientBoosting = GradientBoostingClassifier(max_depth=7, max_features=0.35000000000000003, min_samples_leaf=6, min_samples_split=13, n_estimators=100)\n",
    "GradientBoosting.fit(train_x, train_y)\n",
    "\n",
    "# save the model\n",
    "joblib.dump(GradientBoosting, 'C:\\\\Users\\\\DELL\\\\Desktop\\\\data_scientist\\\\rnn\\\\gb_model1.pkl')"
   ]
  },
  {
   "cell_type": "code",
   "execution_count": 41,
   "metadata": {
    "collapsed": false
   },
   "outputs": [
    {
     "data": {
      "text/plain": [
       "0.68705488060326769"
      ]
     },
     "execution_count": 41,
     "metadata": {},
     "output_type": "execute_result"
    }
   ],
   "source": [
    "# Evaluate accuracy best on the test set\n",
    "score_GB=GradientBoosting.score(test_x,test_y)\n",
    "score_GB"
   ]
  },
  {
   "cell_type": "markdown",
   "metadata": {},
   "source": [
    "# LogisticRegression"
   ]
  },
  {
   "cell_type": "code",
   "execution_count": 42,
   "metadata": {
    "collapsed": false
   },
   "outputs": [
    {
     "data": {
      "text/plain": [
       "LogisticRegression(C=1.0, class_weight=None, dual=False, fit_intercept=True,\n",
       "          intercept_scaling=1, max_iter=100, multi_class='ovr', n_jobs=1,\n",
       "          penalty='l2', random_state=None, solver='liblinear', tol=0.0001,\n",
       "          verbose=0, warm_start=False)"
      ]
     },
     "execution_count": 42,
     "metadata": {},
     "output_type": "execute_result"
    }
   ],
   "source": [
    "LR=sklearn.linear_model.LogisticRegression(penalty='l2')\n",
    "LR.fit(train_x, train_y)"
   ]
  },
  {
   "cell_type": "code",
   "execution_count": 43,
   "metadata": {
    "collapsed": false
   },
   "outputs": [
    {
     "data": {
      "text/plain": [
       "0.79681608713866781"
      ]
     },
     "execution_count": 43,
     "metadata": {},
     "output_type": "execute_result"
    }
   ],
   "source": [
    "score_LR=LR.score(test_x,test_y)\n",
    "score_LR"
   ]
  },
  {
   "cell_type": "code",
   "execution_count": 44,
   "metadata": {
    "collapsed": false
   },
   "outputs": [
    {
     "name": "stdout",
     "output_type": "stream",
     "text": [
      "             precision    recall  f1-score   support\n",
      "\n",
      "          0       0.74      0.90      0.81      1176\n",
      "          1       0.88      0.70      0.78      1211\n",
      "\n",
      "avg / total       0.81      0.80      0.79      2387\n",
      "\n"
     ]
    }
   ],
   "source": [
    "resultsLR=LR.predict(test_x)\n",
    "c_reportLR=classification_report(test_y,resultsLR)\n",
    "print(c_reportLR)"
   ]
  },
  {
   "cell_type": "code",
   "execution_count": 45,
   "metadata": {
    "collapsed": false,
    "scrolled": false
   },
   "outputs": [
    {
     "name": "stdout",
     "output_type": "stream",
     "text": [
      "Confusion matrix, without normalization\n",
      "[[1057  119]\n",
      " [ 366  845]]\n",
      "Normalized confusion matrix\n",
      "[[ 0.9  0.1]\n",
      " [ 0.3  0.7]]\n"
     ]
    },
    {
     "data": {
      "image/png": "[encoded data removed]",
      "text/plain": [
       "<matplotlib.figure.Figure at 0x21746f76240>"
      ]
     },
     "metadata": {},
     "output_type": "display_data"
    },
    {
     "data": {
      "image/png": "[encoded data removed]",
      "text/plain": [
       "<matplotlib.figure.Figure at 0x217467a3160>"
      ]
     },
     "metadata": {},
     "output_type": "display_data"
    }
   ],
   "source": [
    "c_matrixLR=confusion_matrix(test_y,resultsLR)   \n",
    "classes=df3.gender.unique()\n",
    "np.set_printoptions(precision=2)\n",
    "\n",
    "# Plot non-normalized confusion matrix\n",
    "plt.figure()\n",
    "plot_confusion_matrix(c_matrixLR, classes,\n",
    "                      title='Confusion matrix, without normalization')\n",
    "\n",
    "# Plot normalized confusion matrix\n",
    "plt.figure()\n",
    "plot_confusion_matrix(c_matrixLR, classes, normalize=True,\n",
    "                      title='Normalized confusion matrix')\n",
    "\n",
    "plt.show()"
   ]
  },
  {
   "cell_type": "markdown",
   "metadata": {},
   "source": [
    "# Results"
   ]
  },
  {
   "cell_type": "code",
   "execution_count": 46,
   "metadata": {
    "collapsed": false
   },
   "outputs": [
    {
     "name": "stdout",
     "output_type": "stream",
     "text": [
      "scores\n",
      "                           0\n",
      "LogisticRegression  0.796816\n",
      "RandomForest        0.713029\n",
      "GradientBoosting    0.687055\n"
     ]
    },
    {
     "name": "stderr",
     "output_type": "stream",
     "text": [
      "C:\\Users\\DELL\\Anaconda3\\envs\\py35\\lib\\site-packages\\ipykernel\\__main__.py:2: FutureWarning: sort(columns=....) is deprecated, use sort_values(by=.....)\n",
      "  from ipykernel import kernelapp as app\n"
     ]
    }
   ],
   "source": [
    "print('scores')\n",
    "res=pd.DataFrame([[score_rf,score_LR,score_GB]],columns=['RandomForest',\\\n",
    "                     'LogisticRegression','GradientBoosting']).T.sort(columns=0,ascending=0)\n",
    "print(res)"
   ]
  },
  {
   "cell_type": "code",
   "execution_count": 47,
   "metadata": {
    "collapsed": false
   },
   "outputs": [
    {
     "data": {
      "text/plain": [
       "<matplotlib.axes._subplots.AxesSubplot at 0x21747260d30>"
      ]
     },
     "execution_count": 47,
     "metadata": {},
     "output_type": "execute_result"
    },
    {
     "data": {
      "image/png": "[encoded data removed]",
      "text/plain": [
       "<matplotlib.figure.Figure at 0x21746f76160>"
      ]
     },
     "metadata": {},
     "output_type": "display_data"
    }
   ],
   "source": [
    "res.plot(kind='bar', stacked=False, grid=False, legend=False)"
   ]
  },
  {
   "cell_type": "markdown",
   "metadata": {
    "collapsed": true
   },
   "source": [
    "# Try only with tf-idf"
   ]
  },
  {
   "cell_type": "code",
   "execution_count": 48,
   "metadata": {
    "collapsed": true
   },
   "outputs": [],
   "source": [
    "#split train, test sets\n",
    "train_x = tfidf_matrix2[0:10000]\n",
    "train_y = df3[\"gender\"][0:10000]\n",
    "test_x = tfidf_matrix2[10000:]\n",
    "test_y = df3[\"gender\"][10000:]"
   ]
  },
  {
   "cell_type": "markdown",
   "metadata": {},
   "source": [
    "# Random forest"
   ]
  },
  {
   "cell_type": "code",
   "execution_count": 49,
   "metadata": {
    "collapsed": true
   },
   "outputs": [],
   "source": [
    "from sklearn.externals import joblib\n",
    "#load model\n",
    "forest = joblib.load('C:\\\\Users\\\\DELL\\\\Desktop\\\\data_scientist\\\\rnn\\\\rf_model_tfidf.pkl')"
   ]
  },
  {
   "cell_type": "code",
   "execution_count": 50,
   "metadata": {
    "collapsed": false
   },
   "outputs": [],
   "source": [
    "from sklearn.ensemble import RandomForestClassifier\n",
    "from sklearn.metrics import f1_score\n",
    "# Initialize a Random Forest classifier with 500 trees\n",
    "forest = RandomForestClassifier(criterion='gini', \n",
    "                         n_estimators=500, #The number of trees in the forest\n",
    "                         min_samples_split=10,\n",
    "                         min_samples_leaf=1,\n",
    "                         max_features='auto',\n",
    "                         oob_score=True,\n",
    "                         random_state=1,\n",
    "                         n_jobs=-1)\n",
    "\n",
    "# Fit the forest to the training set, using the bag of words as \n",
    "# features and the gender labels as the response variable\n",
    "forest = forest.fit( train_x, train_y )\n",
    "# save the model\n",
    "joblib.dump(forest, 'C:\\\\Users\\\\DELL\\\\Desktop\\\\data_scientist\\\\rnn\\\\rf_model_tfidf.pkl') "
   ]
  },
  {
   "cell_type": "code",
   "execution_count": 51,
   "metadata": {
    "collapsed": false
   },
   "outputs": [
    {
     "name": "stdout",
     "output_type": "stream",
     "text": [
      "0.75073313783\n"
     ]
    }
   ],
   "source": [
    "# Evaluate accuracy best on the test set\n",
    "score_rf=forest.score(test_x,test_y)\n",
    "print(score_rf)"
   ]
  },
  {
   "cell_type": "code",
   "execution_count": 52,
   "metadata": {
    "collapsed": false
   },
   "outputs": [
    {
     "name": "stdout",
     "output_type": "stream",
     "text": [
      "             precision    recall  f1-score   support\n",
      "\n",
      "          0       0.76      0.72      0.74      1176\n",
      "          1       0.74      0.78      0.76      1211\n",
      "\n",
      "avg / total       0.75      0.75      0.75      2387\n",
      "\n"
     ]
    }
   ],
   "source": [
    "from sklearn.metrics import classification_report\n",
    "results=forest.predict(test_x)\n",
    "\n",
    "#precision_recall_fscore_support\n",
    "c_report=classification_report(test_y,results)\n",
    "print(c_report)"
   ]
  },
  {
   "cell_type": "code",
   "execution_count": 53,
   "metadata": {
    "collapsed": false
   },
   "outputs": [
    {
     "name": "stdout",
     "output_type": "stream",
     "text": [
      "Confusion matrix, without normalization\n",
      "[[846 330]\n",
      " [265 946]]\n",
      "Normalized confusion matrix\n",
      "[[ 0.72  0.28]\n",
      " [ 0.22  0.78]]\n"
     ]
    },
    {
     "data": {
      "image/png": "[encoded data removed]",
      "text/plain": [
       "<matplotlib.figure.Figure at 0x21746771d30>"
      ]
     },
     "metadata": {},
     "output_type": "display_data"
    },
    {
     "data": {
      "image/png": "[encoded data removed]",
      "text/plain": [
       "<matplotlib.figure.Figure at 0x21746f7d0f0>"
      ]
     },
     "metadata": {},
     "output_type": "display_data"
    }
   ],
   "source": [
    "#print the confusion matrix\n",
    "c_matrix=confusion_matrix(test_y,results)   \n",
    "classes=df3.gender.unique()\n",
    "np.set_printoptions(precision=2)\n",
    "\n",
    "# Plot non-normalized confusion matrix\n",
    "plt.figure()\n",
    "plot_confusion_matrix(c_matrix, classes,\n",
    "                      title='Confusion matrix, without normalization')\n",
    "\n",
    "# Plot normalized confusion matrix\n",
    "plt.figure()\n",
    "plot_confusion_matrix(c_matrix, classes, normalize=True,\n",
    "                      title='Normalized confusion matrix')\n",
    "\n",
    "plt.show()\n"
   ]
  },
  {
   "cell_type": "markdown",
   "metadata": {},
   "source": [
    "# GradientBoosting"
   ]
  },
  {
   "cell_type": "code",
   "execution_count": 54,
   "metadata": {
    "collapsed": true
   },
   "outputs": [],
   "source": [
    "GradientBoosting = joblib.load('C:\\\\Users\\\\DELL\\\\Desktop\\\\data_scientist\\\\rnn\\\\gb_model_tfidf.pkl')"
   ]
  },
  {
   "cell_type": "code",
   "execution_count": 55,
   "metadata": {
    "collapsed": false
   },
   "outputs": [],
   "source": [
    "from sklearn.ensemble import GradientBoostingClassifier\n",
    "GradientBoosting = GradientBoostingClassifier(max_depth=7, max_features=0.35000000000000003, min_samples_leaf=6, min_samples_split=13, n_estimators=100)\n",
    "GradientBoosting.fit(train_x, train_y)\n",
    "\n",
    "# save the model\n",
    "joblib.dump(GradientBoosting, 'C:\\\\Users\\\\DELL\\\\Desktop\\\\data_scientist\\\\rnn\\\\gb_model_tfidf.pkl')"
   ]
  },
  {
   "cell_type": "code",
   "execution_count": 56,
   "metadata": {
    "collapsed": false
   },
   "outputs": [
    {
     "data": {
      "text/plain": [
       "0.69962295768747385"
      ]
     },
     "execution_count": 56,
     "metadata": {},
     "output_type": "execute_result"
    }
   ],
   "source": [
    "# Evaluate accuracy best on the test set\n",
    "score_GB=GradientBoosting.score(test_x,test_y)\n",
    "score_GB"
   ]
  },
  {
   "cell_type": "markdown",
   "metadata": {},
   "source": [
    "# LogisticRegression"
   ]
  },
  {
   "cell_type": "code",
   "execution_count": 57,
   "metadata": {
    "collapsed": false
   },
   "outputs": [
    {
     "data": {
      "text/plain": [
       "LogisticRegression(C=1.0, class_weight=None, dual=False, fit_intercept=True,\n",
       "          intercept_scaling=1, max_iter=100, multi_class='ovr', n_jobs=1,\n",
       "          penalty='l2', random_state=None, solver='liblinear', tol=0.0001,\n",
       "          verbose=0, warm_start=False)"
      ]
     },
     "execution_count": 57,
     "metadata": {},
     "output_type": "execute_result"
    }
   ],
   "source": [
    "LR=sklearn.linear_model.LogisticRegression(penalty='l2')\n",
    "LR.fit(train_x, train_y)"
   ]
  },
  {
   "cell_type": "code",
   "execution_count": 58,
   "metadata": {
    "collapsed": false
   },
   "outputs": [
    {
     "data": {
      "text/plain": [
       "0.84792626728110598"
      ]
     },
     "execution_count": 58,
     "metadata": {},
     "output_type": "execute_result"
    }
   ],
   "source": [
    "score_LR=LR.score(test_x,test_y)\n",
    "score_LR"
   ]
  },
  {
   "cell_type": "code",
   "execution_count": 59,
   "metadata": {
    "collapsed": false
   },
   "outputs": [
    {
     "name": "stdout",
     "output_type": "stream",
     "text": [
      "             precision    recall  f1-score   support\n",
      "\n",
      "          0       0.84      0.86      0.85      1176\n",
      "          1       0.86      0.84      0.85      1211\n",
      "\n",
      "avg / total       0.85      0.85      0.85      2387\n",
      "\n"
     ]
    }
   ],
   "source": [
    "resultsLR=LR.predict(test_x)\n",
    "c_reportLR=classification_report(test_y,resultsLR)\n",
    "print(c_reportLR)"
   ]
  },
  {
   "cell_type": "code",
   "execution_count": 60,
   "metadata": {
    "collapsed": false
   },
   "outputs": [
    {
     "name": "stdout",
     "output_type": "stream",
     "text": [
      "Confusion matrix, without normalization\n",
      "[[1011  165]\n",
      " [ 198 1013]]\n",
      "Normalized confusion matrix\n",
      "[[ 0.86  0.14]\n",
      " [ 0.16  0.84]]\n"
     ]
    },
    {
     "data": {
      "image/png": "[encoded data removed]",
      "text/plain": [
       "<matplotlib.figure.Figure at 0x217465fd160>"
      ]
     },
     "metadata": {},
     "output_type": "display_data"
    },
    {
     "data": {
      "image/png": "[encoded data removed]",
      "text/plain": [
       "<matplotlib.figure.Figure at 0x217465ce2b0>"
      ]
     },
     "metadata": {},
     "output_type": "display_data"
    }
   ],
   "source": [
    "c_matrixLR=confusion_matrix(test_y,resultsLR)   \n",
    "classes=df3.gender.unique()\n",
    "np.set_printoptions(precision=2)\n",
    "\n",
    "# Plot non-normalized confusion matrix\n",
    "plt.figure()\n",
    "plot_confusion_matrix(c_matrixLR, classes,\n",
    "                      title='Confusion matrix, without normalization')\n",
    "\n",
    "# Plot normalized confusion matrix\n",
    "plt.figure()\n",
    "plot_confusion_matrix(c_matrixLR, classes, normalize=True,\n",
    "                      title='Normalized confusion matrix')\n",
    "\n",
    "plt.show()"
   ]
  },
  {
   "cell_type": "markdown",
   "metadata": {},
   "source": [
    "# Results"
   ]
  },
  {
   "cell_type": "code",
   "execution_count": 61,
   "metadata": {
    "collapsed": false
   },
   "outputs": [
    {
     "name": "stdout",
     "output_type": "stream",
     "text": [
      "scores\n",
      "                           0\n",
      "LogisticRegression  0.847926\n",
      "RandomForest        0.750733\n",
      "GradientBoosting    0.699623\n"
     ]
    },
    {
     "name": "stderr",
     "output_type": "stream",
     "text": [
      "C:\\Users\\DELL\\Anaconda3\\envs\\py35\\lib\\site-packages\\ipykernel\\__main__.py:2: FutureWarning: sort(columns=....) is deprecated, use sort_values(by=.....)\n",
      "  from ipykernel import kernelapp as app\n"
     ]
    }
   ],
   "source": [
    "print('scores')\n",
    "res=pd.DataFrame([[score_rf,score_LR,score_GB]],columns=['RandomForest',\\\n",
    "                     'LogisticRegression','GradientBoosting']).T.sort(columns=0,ascending=0)\n",
    "print(res)"
   ]
  },
  {
   "cell_type": "code",
   "execution_count": 62,
   "metadata": {
    "collapsed": false
   },
   "outputs": [
    {
     "data": {
      "text/plain": [
       "<matplotlib.axes._subplots.AxesSubplot at 0x217258a27b8>"
      ]
     },
     "execution_count": 62,
     "metadata": {},
     "output_type": "execute_result"
    },
    {
     "data": {
      "image/png": "[encoded data removed]",
      "text/plain": [
       "<matplotlib.figure.Figure at 0x217467a9a58>"
      ]
     },
     "metadata": {},
     "output_type": "display_data"
    }
   ],
   "source": [
    "res.plot(kind='bar', stacked=False, grid=False, legend=False)"
   ]
  },
  {
   "cell_type": "markdown",
   "metadata": {},
   "source": [
    "# Summery\n",
    "### part1\n",
    "1. Data Collection- Collect messages from whatsapp. Data Selection Consider what data is available, what data is missing and what data can be removed.\n",
    "2. Preprocessing- Data Cleaning, Data Preprocessing Organize your selected data by formatting, cleaning and sampling from it.\n",
    "\n",
    "###  part2\n",
    "1. Data Analysis with virtualization- is a process of inspecting, cleansing, transforming, and modeling data with the goal of discovering useful information and suggesting conclusions.\n",
    "2. Feature extraction from an initial set of measured data and builds derived values (features) intended to be informative and non-redundant. we used many features and used with bad of words models like tfidf and topic modeling.\n",
    "3. Features Selection- It is the selection of attributes in your data that are most relevant to the predictive modeling problem you are working on.\n",
    "4. Models Traning\n",
    "\n",
    "###  part3\n",
    "1. Build rnn model\n",
    "2. Generate new sequences, new messages for each gender.\n",
    "\n",
    "### part4\n",
    "1. Test the models with new sequences(rnn results)  \n",
    "\n",
    "# Conclusions\n",
    "1. Preprocessing phase is very crucial to accurate classification model training!\n",
    "2. According to the results of the model we can see that with the features we created can be classified well between the messages and the types of each species.\n",
    "3. To improve the neural network model, we need to train it longer and work with more data- More time is better, More data is better.\n",
    "4. The model with the highest accuracy is Logistic regressing Model(0.847926).\n",
    "\n",
    "# Problems\n",
    "1. There are no free text processing tools like Stemming which support the Hebrew language\n",
    "2. There is no good sets of stopwords."
   ]
  }
 ],
 "metadata": {
  "anaconda-cloud": {},
  "kernelspec": {
   "display_name": "Python [conda env:py35]",
   "language": "python",
   "name": "conda-env-py35-py"
  },
  "language_info": {
   "codemirror_mode": {
    "name": "ipython",
    "version": 3
   },
   "file_extension": ".py",
   "mimetype": "text/x-python",
   "name": "python",
   "nbconvert_exporter": "python",
   "pygments_lexer": "ipython3",
   "version": "3.5.2"
  }
 },
 "nbformat": 4,
 "nbformat_minor": 1
}
