{
 "cells": [
  {
   "cell_type": "markdown",
   "metadata": {
    "collapsed": false,
    "scrolled": true
   },
   "source": [
    "# Data Collection\n",
    "Collect messages from whatsapp"
   ]
  },
  {
   "cell_type": "code",
   "execution_count": 23,
   "metadata": {
    "collapsed": true
   },
   "outputs": [],
   "source": [
    "%matplotlib inline\n",
    "import numpy as np\n",
    "import pandas as pd\n",
    "import matplotlib.pyplot as plt\n",
    "from datetime import date\n",
    "import sklearn\n",
    "import itertools\n",
    "import re\n",
    "import string\n",
    "import csv"
   ]
  },
  {
   "cell_type": "markdown",
   "metadata": {},
   "source": [
    "Crawling data from phone files"
   ]
  },
  {
   "cell_type": "code",
   "execution_count": 24,
   "metadata": {
    "collapsed": false
   },
   "outputs": [
    {
     "name": "stderr",
     "output_type": "stream",
     "text": [
      "b'Skipping line 8342: expected 1 fields, saw 2\\n'\n"
     ]
    }
   ],
   "source": [
    "df = pd.read_csv('C:\\\\Users\\\\DELL\\\\Desktop\\\\data_scientist\\\\data\\\\data4.txt', sep=\"\\n\", header = None, error_bad_lines=False)\n",
    "df['gender'] = pd.read_csv('C:\\\\Users\\\\DELL\\\\Desktop\\\\data_scientist\\\\data\\\\target.txt', sep=\"\\n\", header = None, error_bad_lines=False)\n",
    "\n",
    "df2 = pd.read_csv('C:\\\\Users\\\\DELL\\\\Desktop\\\\data_scientist\\\\data\\\\eden.txt', sep=\"\\n\", header = None, error_bad_lines=False)\n",
    "df2['gender']=1\n",
    "df2=df2[1:5000]\n",
    "\n",
    "df3 = pd.read_csv('C:\\\\Users\\\\DELL\\\\Desktop\\\\data_scientist\\\\data\\\\proj1.txt', sep=\"\\n\", header = None, error_bad_lines=False)\n",
    "df3['gender']=0\n",
    "df3=df3[1:5000]\n",
    "\n",
    "frame=[df,df2,df3]\n",
    "df=pd.concat(frame)"
   ]
  },
  {
   "cell_type": "markdown",
   "metadata": {},
   "source": [
    "# Preproccesing"
   ]
  },
  {
   "cell_type": "markdown",
   "metadata": {},
   "source": [
    "1. drop null\n",
    "2. remove invalid messages (with Invalid format)\n",
    "4. extract message\n",
    "5. drop duplicates records\n",
    "6. messages cleaning\n",
    "7. create and remove stop-words\n",
    " "
   ]
  },
  {
   "cell_type": "code",
   "execution_count": 25,
   "metadata": {
    "collapsed": false
   },
   "outputs": [],
   "source": [
    "#drop null\n",
    "df[0]=df[0].dropna()\n",
    "#remove invalid messages\n",
    "df=df[df[0].str.contains(\"<מדיה הושמטה>\") == False]\n",
    "df=df[df[0].str.contains(\"-\") == True]\n",
    "df[1]=pd.DataFrame(df[0].apply(lambda x: x[x.index('-')+1:]))\n",
    "df=df[df[1].str.contains(\":\") == True]\n",
    "df['message']=pd.DataFrame(df[1].apply(lambda x: x[x.index(':')+1:]))\n",
    "#drop duplicates records\n",
    "df.drop_duplicates(subset=None, keep='first', inplace=True)"
   ]
  },
  {
   "cell_type": "code",
   "execution_count": 26,
   "metadata": {
    "collapsed": true
   },
   "outputs": [],
   "source": [
    "# remove punctuation from data\n",
    "regex = re.compile('[%s]' % re.escape(string.punctuation))\n",
    "df['message_clean']= df['message'].apply(lambda x: regex.sub('', x))"
   ]
  },
  {
   "cell_type": "code",
   "execution_count": 28,
   "metadata": {
    "collapsed": true
   },
   "outputs": [],
   "source": [
    "from collections import Counter\n",
    "#creat stop-words - the x most frequent words \n",
    "result=df.message_clean.apply(lambda x: pd.value_counts(x.split(\" \"))).sum(axis = 0)\n",
    "result=result.sort_values(ascending=False)\n",
    "stop=result.head(500)\n",
    "#remove stop-words\n",
    "df['message_clean'] = df['message_clean'].apply(lambda x: ' '.join([word for word in x.split() if word not in (stop)]))"
   ]
  },
  {
   "cell_type": "code",
   "execution_count": 29,
   "metadata": {
    "collapsed": false
   },
   "outputs": [
    {
     "data": {
      "text/plain": [
       "            12703.0\n",
       "לא           1282.0\n",
       "אני          1184.0\n",
       "את            666.0\n",
       "מה            648.0\n",
       "זה            626.0\n",
       "לי            550.0\n",
       "יש            433.0\n",
       "אתה           323.0\n",
       "אנונימוס      322.0\n",
       "עם            313.0\n",
       "חחח           311.0\n",
       "אז            291.0\n",
       "על            286.0\n",
       "גם            285.0\n",
       "של            285.0\n",
       "כן            276.0\n",
       "לך            265.0\n",
       "אם            231.0\n",
       "אבל           229.0\n",
       "dtype: float64"
      ]
     },
     "execution_count": 29,
     "metadata": {},
     "output_type": "execute_result"
    }
   ],
   "source": [
    "stop.head(20)"
   ]
  },
  {
   "cell_type": "code",
   "execution_count": 30,
   "metadata": {
    "collapsed": false
   },
   "outputs": [
    {
     "data": {
      "text/html": [
       "<div>\n",
       "<table border=\"1\" class=\"dataframe\">\n",
       "  <thead>\n",
       "    <tr style=\"text-align: right;\">\n",
       "      <th></th>\n",
       "      <th>0</th>\n",
       "      <th>gender</th>\n",
       "      <th>1</th>\n",
       "      <th>message</th>\n",
       "      <th>message_clean</th>\n",
       "    </tr>\n",
       "  </thead>\n",
       "  <tbody>\n",
       "    <tr>\n",
       "      <th>2</th>\n",
       "      <td>24/04/17, 21:39 - אנונימוס: חחחחח</td>\n",
       "      <td>0</td>\n",
       "      <td>אנונימוס: חחחחח</td>\n",
       "      <td>חחחחח</td>\n",
       "      <td></td>\n",
       "    </tr>\n",
       "    <tr>\n",
       "      <th>3</th>\n",
       "      <td>24/04/17, 21:39 - אנונימוס: חברים, התחלנו. בקב...</td>\n",
       "      <td>0</td>\n",
       "      <td>אנונימוס: חברים, התחלנו. בקבוצה זו נעסוק בנוש...</td>\n",
       "      <td>חברים, התחלנו. בקבוצה זו נעסוק בנושאי הליבה ה...</td>\n",
       "      <td>התחלנו בקבוצה נעסוק בנושאי הליבה הטמונים המממש...</td>\n",
       "    </tr>\n",
       "    <tr>\n",
       "      <th>5</th>\n",
       "      <td>24/04/17, 21:39 - אנונימוס: מי זאת החמודה לידה</td>\n",
       "      <td>0</td>\n",
       "      <td>אנונימוס: מי זאת החמודה לידה</td>\n",
       "      <td>מי זאת החמודה לידה</td>\n",
       "      <td>החמודה לידה</td>\n",
       "    </tr>\n",
       "  </tbody>\n",
       "</table>\n",
       "</div>"
      ],
      "text/plain": [
       "                                                   0  gender  \\\n",
       "2                  24/04/17, 21:39 - אנונימוס: חחחחח       0   \n",
       "3  24/04/17, 21:39 - אנונימוס: חברים, התחלנו. בקב...       0   \n",
       "5     24/04/17, 21:39 - אנונימוס: מי זאת החמודה לידה       0   \n",
       "\n",
       "                                                   1  \\\n",
       "2                                    אנונימוס: חחחחח   \n",
       "3   אנונימוס: חברים, התחלנו. בקבוצה זו נעסוק בנוש...   \n",
       "5                       אנונימוס: מי זאת החמודה לידה   \n",
       "\n",
       "                                             message  \\\n",
       "2                                              חחחחח   \n",
       "3   חברים, התחלנו. בקבוצה זו נעסוק בנושאי הליבה ה...   \n",
       "5                                 מי זאת החמודה לידה   \n",
       "\n",
       "                                       message_clean  \n",
       "2                                                     \n",
       "3  התחלנו בקבוצה נעסוק בנושאי הליבה הטמונים המממש...  \n",
       "5                                        החמודה לידה  "
      ]
     },
     "execution_count": 30,
     "metadata": {},
     "output_type": "execute_result"
    }
   ],
   "source": [
    "df.head(3)"
   ]
  },
  {
   "cell_type": "code",
   "execution_count": 31,
   "metadata": {
    "collapsed": false
   },
   "outputs": [],
   "source": [
    "import csv\n",
    "#save to text files\n",
    "with open('C:\\\\Users\\\\DELL\\\\Desktop\\\\data_model\\\\y1.txt', 'w', newline='\\n', encoding='utf-8') as csv_file:\n",
    "    writer = csv.writer(csv_file, delimiter='\\n')\n",
    "    writer.writerow(df['message'].values)\n",
    "with open('C:\\\\Users\\\\DELL\\\\Desktop\\\\data_model\\\\y2.txt', 'w', newline='\\n', encoding='utf-8') as csv_file:\n",
    "    writer = csv.writer(csv_file, delimiter='\\n')\n",
    "    writer.writerow(df['gender'].values)"
   ]
  }
 ],
 "metadata": {
  "anaconda-cloud": {},
  "kernelspec": {
   "display_name": "Python [conda env:py35]",
   "language": "python",
   "name": "conda-env-py35-py"
  },
  "language_info": {
   "codemirror_mode": {
    "name": "ipython",
    "version": 3
   },
   "file_extension": ".py",
   "mimetype": "text/x-python",
   "name": "python",
   "nbconvert_exporter": "python",
   "pygments_lexer": "ipython3",
   "version": "3.5.2"
  }
 },
 "nbformat": 4,
 "nbformat_minor": 1
}
